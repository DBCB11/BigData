{
 "cells": [
  {
   "cell_type": "code",
   "execution_count": 6,
   "id": "72473e71",
   "metadata": {},
   "outputs": [
    {
     "ename": "FileNotFoundError",
     "evalue": "[Errno 2] No such file or directory: '/home/jovyan/work/kafka/producer/symbol_list.csv'",
     "output_type": "error",
     "traceback": [
      "\u001b[0;31m---------------------------------------------------------------------------\u001b[0m",
      "\u001b[0;31mFileNotFoundError\u001b[0m                         Traceback (most recent call last)",
      "\u001b[0;32m/tmp/ipykernel_34/1900236850.py\u001b[0m in \u001b[0;36m<module>\u001b[0;34m\u001b[0m\n\u001b[1;32m     77\u001b[0m \u001b[0;34m\u001b[0m\u001b[0m\n\u001b[1;32m     78\u001b[0m \u001b[0mproducer\u001b[0m \u001b[0;34m=\u001b[0m \u001b[0mStockProducer\u001b[0m\u001b[0;34m(\u001b[0m\u001b[0;34m)\u001b[0m\u001b[0;34m\u001b[0m\u001b[0;34m\u001b[0m\u001b[0m\n\u001b[0;32m---> 79\u001b[0;31m \u001b[0mproducer\u001b[0m\u001b[0;34m.\u001b[0m\u001b[0mrun\u001b[0m\u001b[0;34m(\u001b[0m\u001b[0;34m)\u001b[0m\u001b[0;34m\u001b[0m\u001b[0;34m\u001b[0m\u001b[0m\n\u001b[0m\u001b[1;32m     80\u001b[0m \u001b[0;34m\u001b[0m\u001b[0m\n\u001b[1;32m     81\u001b[0m \u001b[0;34m\u001b[0m\u001b[0m\n",
      "\u001b[0;32m/tmp/ipykernel_34/1900236850.py\u001b[0m in \u001b[0;36mrun\u001b[0;34m(self)\u001b[0m\n\u001b[1;32m     68\u001b[0m     \u001b[0;32mdef\u001b[0m \u001b[0mrun\u001b[0m\u001b[0;34m(\u001b[0m\u001b[0mself\u001b[0m\u001b[0;34m)\u001b[0m\u001b[0;34m:\u001b[0m\u001b[0;34m\u001b[0m\u001b[0;34m\u001b[0m\u001b[0m\n\u001b[1;32m     69\u001b[0m \u001b[0;34m\u001b[0m\u001b[0m\n\u001b[0;32m---> 70\u001b[0;31m         \u001b[0;32mwith\u001b[0m \u001b[0mopen\u001b[0m\u001b[0;34m(\u001b[0m\u001b[0mos\u001b[0m\u001b[0;34m.\u001b[0m\u001b[0mpath\u001b[0m\u001b[0;34m.\u001b[0m\u001b[0mabspath\u001b[0m\u001b[0;34m(\u001b[0m\u001b[0mos\u001b[0m\u001b[0;34m.\u001b[0m\u001b[0mgetcwd\u001b[0m\u001b[0;34m(\u001b[0m\u001b[0;34m)\u001b[0m\u001b[0;34m)\u001b[0m \u001b[0;34m+\u001b[0m \u001b[0;34m\"/kafka/producer/symbol_list.csv\"\u001b[0m\u001b[0;34m)\u001b[0m \u001b[0;32mas\u001b[0m \u001b[0mf\u001b[0m\u001b[0;34m:\u001b[0m\u001b[0;34m\u001b[0m\u001b[0;34m\u001b[0m\u001b[0m\n\u001b[0m\u001b[1;32m     71\u001b[0m             \u001b[0msymbol_list\u001b[0m \u001b[0;34m=\u001b[0m \u001b[0mf\u001b[0m\u001b[0;34m.\u001b[0m\u001b[0mread\u001b[0m\u001b[0;34m(\u001b[0m\u001b[0;34m)\u001b[0m\u001b[0;34m.\u001b[0m\u001b[0msplit\u001b[0m\u001b[0;34m(\u001b[0m\u001b[0;34m'\\n'\u001b[0m\u001b[0;34m)\u001b[0m\u001b[0;34m\u001b[0m\u001b[0;34m\u001b[0m\u001b[0m\n\u001b[1;32m     72\u001b[0m         \u001b[0;31m# schedule.every().day.at(\"15:10\").do(self.crawl_from_tcbs, c)\u001b[0m\u001b[0;34m\u001b[0m\u001b[0;34m\u001b[0m\u001b[0m\n",
      "\u001b[0;31mFileNotFoundError\u001b[0m: [Errno 2] No such file or directory: '/home/jovyan/work/kafka/producer/symbol_list.csv'"
     ]
    }
   ],
   "source": [
    "import logging\n",
    "import pandas as pd \n",
    "import requests\n",
    "from logging.handlers import RotatingFileHandler\n",
    "from kafka import KafkaProducer\n",
    "from kafka.errors import KafkaError\n",
    "import os\n",
    "from datetime import date, timedelta\n",
    "import time\n",
    "from pandas import json_normalize\n",
    "import schedule\n",
    "\n",
    "class StockProducer:\n",
    "    def __init__(self):\n",
    "        log_handler = RotatingFileHandler(\n",
    "            f\"./logs/producer.log\",\n",
    "            maxBytes=104857600, backupCount=10)\n",
    "        logging.basicConfig(\n",
    "            format='%(asctime)s,%(msecs)d <%(name)s>[%(levelname)s]: %(message)s',\n",
    "            datefmt='%H:%M:%S',\n",
    "            level=logging.DEBUG,\n",
    "            handlers=[log_handler])\n",
    "        self.logger = logging.getLogger('producer')\n",
    "\n",
    "        self.producer = KafkaProducer(\n",
    "            bootstrap_servers=['kafka-1:9092',\n",
    "                               'kafka-2:9092', 'kafka-3:9092'],\n",
    "            client_id='producer')\n",
    "\n",
    "    def message_handler(self, symbol, message):\n",
    "        #  Message from stock api\n",
    "        try:\n",
    "            if not message.empty: \n",
    "                stock_info = f\"{symbol},{message.Open.iloc[0]},{message.High.iloc[0]},{message.Low.iloc[0]},{message.Close.iloc[0]},{message.Volume.iloc[0]},{message.Tradingdate.iloc[0]}\"\n",
    "                print(symbol + \",\" + stock_info)\n",
    "                self.producer.send('stockData', bytes(\n",
    "                    stock_info, encoding='utf-8'))\n",
    "                self.producer.flush()\n",
    "        except KafkaError as e:\n",
    "            self.logger.error(f\"An Kafka error happened: {e}\")\n",
    "        except Exception as e:\n",
    "            self.logger.error(\n",
    "                f\"An error happened while pushing message to Kafka: {e}\")\n",
    "    def stock_historical_data(self, symbol, start_date, end_date):\n",
    "        fd = int(time.mktime(time.strptime(start_date, \"%Y-%m-%d\")))\n",
    "        td = int(time.mktime(time.strptime(end_date, \"%Y-%m-%d\")))\n",
    "        data = requests.get('https://apipubaws.tcbs.com.vn/stock-insight/v1/stock/bars-long-term?ticker={}&type=stock&resolution=D&from={}&to={}'.format(symbol, fd, td)).json()\n",
    "        df = json_normalize(data['data'])\n",
    "        df['stockCode'] = symbol\n",
    "        df.columns = df.columns.str.title()\n",
    "        return df\n",
    "\n",
    "    def crawl_from_tcbs(self, symbol_list):\n",
    "        try:\n",
    "            self.logger.info(\"Start running stock producer...\")\n",
    "            for idx, symbol in enumerate(symbol_list):\n",
    "                start_date = (date.today() - timedelta(days=4)\n",
    "                              ).strftime(\"%Y-%m-%d\")\n",
    "                end_date = (date.today()).strftime(\"%Y-%m-%d\")\n",
    "                \n",
    "                data = self.stock_historical_data(symbol, start_date, end_date)\n",
    "                self.message_handler(symbol, data)\n",
    "            # while True:\n",
    "            #     pass\n",
    "        except Exception as e:\n",
    "            self.logger.error(f\"An error happened while streaming: {e}\")\n",
    "\n",
    "    def run(self):\n",
    "        \n",
    "        with open(\"./symbol_list.csv\") as f:\n",
    "            symbol_list = f.read().split('\\n')\n",
    "        # schedule.every().day.at(\"15:10\").do(self.crawl_from_tcbs, c)\n",
    "        self.crawl_from_tcbs(symbol_list)\n",
    "        while True:\n",
    "            schedule.run_pending()\n",
    "            time.sleep(10)\n",
    "\n",
    "producer = StockProducer()\n",
    "producer.run()\n",
    "\n",
    "            \n"
   ]
  },
  {
   "cell_type": "code",
   "execution_count": 2,
   "id": "006aa3b7",
   "metadata": {},
   "outputs": [
    {
     "name": "stdout",
     "output_type": "stream",
     "text": [
      "Collecting kafka-python\n",
      "  Downloading kafka_python-2.0.2-py2.py3-none-any.whl.metadata (7.8 kB)\n",
      "Downloading kafka_python-2.0.2-py2.py3-none-any.whl (246 kB)\n",
      "Installing collected packages: kafka-python\n",
      "Successfully installed kafka-python-2.0.2\n"
     ]
    }
   ],
   "source": [
    "!pip install kafka-python"
   ]
  },
  {
   "cell_type": "code",
   "execution_count": 1,
   "id": "35738bc0",
   "metadata": {},
   "outputs": [
    {
     "name": "stdout",
     "output_type": "stream",
     "text": [
      "Requirement already satisfied: pip in /opt/conda/lib/python3.9/site-packages (21.3)\n",
      "Collecting pip\n",
      "  Downloading pip-24.3.1-py3-none-any.whl (1.8 MB)\n",
      "     |████████████████████████████████| 1.8 MB 30 kB/s             \n",
      "\u001b[?25hInstalling collected packages: pip\n",
      "  Attempting uninstall: pip\n",
      "    Found existing installation: pip 21.3\n",
      "    Uninstalling pip-21.3:\n",
      "      Successfully uninstalled pip-21.3\n",
      "Successfully installed pip-24.3.1\n"
     ]
    }
   ],
   "source": [
    "!pip install --upgrade pip"
   ]
  },
  {
   "cell_type": "code",
   "execution_count": 4,
   "id": "d77e520a",
   "metadata": {},
   "outputs": [
    {
     "name": "stdout",
     "output_type": "stream",
     "text": [
      "Collecting schedule\n",
      "  Downloading schedule-1.2.2-py3-none-any.whl.metadata (3.8 kB)\n",
      "Downloading schedule-1.2.2-py3-none-any.whl (12 kB)\n",
      "Installing collected packages: schedule\n",
      "Successfully installed schedule-1.2.2\n"
     ]
    }
   ],
   "source": [
    "!pip install schedule"
   ]
  },
  {
   "cell_type": "code",
   "execution_count": null,
   "id": "9a2ad1e3",
   "metadata": {},
   "outputs": [],
   "source": []
  }
 ],
 "metadata": {
  "kernelspec": {
   "display_name": "Python 3 (ipykernel)",
   "language": "python",
   "name": "python3"
  },
  "language_info": {
   "codemirror_mode": {
    "name": "ipython",
    "version": 3
   },
   "file_extension": ".py",
   "mimetype": "text/x-python",
   "name": "python",
   "nbconvert_exporter": "python",
   "pygments_lexer": "ipython3",
   "version": "3.9.7"
  }
 },
 "nbformat": 4,
 "nbformat_minor": 5
}

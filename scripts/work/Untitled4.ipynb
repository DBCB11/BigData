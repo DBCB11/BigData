{
 "cells": [
  {
   "cell_type": "code",
   "execution_count": 2,
   "id": "d76f7782",
   "metadata": {},
   "outputs": [
    {
     "name": "stdout",
     "output_type": "stream",
     "text": [
      "Connection to spark-master1 failed: [Errno -3] Temporary failure in name resolution\n"
     ]
    }
   ],
   "source": [
    "import socket\n",
    "\n",
    "host = \"spark-master1\"\n",
    "port = 7077\n",
    "\n",
    "try:\n",
    "    socket.create_connection((host, port))\n",
    "    print(f\"Connection to {host} was successful!\")\n",
    "except OSError as e:\n",
    "    print(f\"Connection to {host} failed: {e}\")"
   ]
  },
  {
   "cell_type": "code",
   "execution_count": null,
   "id": "06152d77",
   "metadata": {},
   "outputs": [],
   "source": []
  }
 ],
 "metadata": {
  "kernelspec": {
   "display_name": "Python 3 (ipykernel)",
   "language": "python",
   "name": "python3"
  },
  "language_info": {
   "codemirror_mode": {
    "name": "ipython",
    "version": 3
   },
   "file_extension": ".py",
   "mimetype": "text/x-python",
   "name": "python",
   "nbconvert_exporter": "python",
   "pygments_lexer": "ipython3",
   "version": "3.9.7"
  }
 },
 "nbformat": 4,
 "nbformat_minor": 5
}
